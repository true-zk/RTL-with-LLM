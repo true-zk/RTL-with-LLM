{
 "cells": [
  {
   "cell_type": "markdown",
   "id": "310961ce",
   "metadata": {},
   "source": [
    "https://docs.llamaindex.ai/en/stable/api_reference/llms/openai_like/"
   ]
  },
  {
   "cell_type": "code",
   "execution_count": 1,
   "id": "c76f38e8",
   "metadata": {},
   "outputs": [
    {
     "name": "stderr",
     "output_type": "stream",
     "text": [
      "d:\\Apps\\Miniconda\\envs\\rtl_llm\\Lib\\site-packages\\tqdm\\auto.py:21: TqdmWarning: IProgress not found. Please update jupyter and ipywidgets. See https://ipywidgets.readthedocs.io/en/stable/user_install.html\n",
      "  from .autonotebook import tqdm as notebook_tqdm\n",
      "None of PyTorch, TensorFlow >= 2.0, or Flax have been found. Models won't be available and only tokenizers, configuration and file/data utilities can be used.\n"
     ]
    }
   ],
   "source": [
    "from llama_index.llms.openai_like import OpenAILike"
   ]
  },
  {
   "cell_type": "code",
   "execution_count": 2,
   "id": "0fd843c9",
   "metadata": {},
   "outputs": [],
   "source": [
    "# Define local llm\n",
    "llm = OpenAILike(\n",
    "    model=\"deepseek-chat\",\n",
    "    api_base=\"http://111.186.56.172:3000/v1\",\n",
    "    api_key=\"sk-e9ZHXSwNdl1gz43v135aCa39A8A943FeBeA059703a6dAfE5\",\n",
    "    is_chat_model=True,\n",
    "    is_function_calling_model=True,\n",
    ")"
   ]
  },
  {
   "cell_type": "code",
   "execution_count": 3,
   "id": "2a635fed",
   "metadata": {},
   "outputs": [
    {
     "name": "stdout",
     "output_type": "stream",
     "text": [
      "Hello! It looks like you're starting with a classic programming example. Here's how \"Hello, World!\" looks in a few popular languages:\n",
      "\n",
      "### Python\n",
      "```python\n",
      "print(\"Hello, World!\")\n",
      "```\n",
      "\n",
      "### JavaScript\n",
      "```javascript\n",
      "console.log(\"Hello, World!\");\n",
      "```\n",
      "\n",
      "### Java\n",
      "```java\n",
      "public class HelloWorld {\n",
      "    public static void main(String[] args) {\n",
      "        System.out.println(\"Hello, World!\");\n",
      "    }\n",
      "}\n",
      "```\n",
      "\n",
      "### C\n",
      "```c\n",
      "#include <stdio.h>\n",
      "\n",
      "int main() {\n",
      "    printf(\"Hello, World!\\n\");\n",
      "    return 0;\n",
      "}\n",
      "```\n",
      "\n",
      "### C++\n",
      "```cpp\n",
      "#include <iostream>\n",
      "\n",
      "int main() {\n",
      "    std::cout << \"Hello, World!\" << std::endl;\n",
      "    return 0;\n",
      "}\n",
      "```\n",
      "\n",
      "Let me know if you'd like to see it in another language or if you have any questions! 😊\n"
     ]
    }
   ],
   "source": [
    "response = llm.complete(\"Hello World!\")\n",
    "print(str(response))"
   ]
  }
 ],
 "metadata": {
  "kernelspec": {
   "display_name": "rtl_llm",
   "language": "python",
   "name": "python3"
  },
  "language_info": {
   "codemirror_mode": {
    "name": "ipython",
    "version": 3
   },
   "file_extension": ".py",
   "mimetype": "text/x-python",
   "name": "python",
   "nbconvert_exporter": "python",
   "pygments_lexer": "ipython3",
   "version": "3.11.11"
  }
 },
 "nbformat": 4,
 "nbformat_minor": 5
}
