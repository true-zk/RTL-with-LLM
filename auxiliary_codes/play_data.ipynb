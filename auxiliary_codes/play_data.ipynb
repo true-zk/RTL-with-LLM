{
 "cells": [
  {
   "cell_type": "code",
   "execution_count": 5,
   "metadata": {},
   "outputs": [],
   "source": [
    "import os\n",
    "import os.path as osp\n",
    "import pandas as pd\n",
    "import torch"
   ]
  },
  {
   "cell_type": "code",
   "execution_count": 6,
   "metadata": {},
   "outputs": [],
   "source": [
    "data_dir = \"../data\"\n",
    "tacm12k = osp.join(data_dir, \"tacm12k\")"
   ]
  },
  {
   "cell_type": "code",
   "execution_count": 13,
   "metadata": {},
   "outputs": [],
   "source": [
    "def apply_(path, fn):\n",
    "    files = os.listdir(path)\n",
    "    for file in files:\n",
    "        if file.endswith(\".csv\"):\n",
    "            file_path = osp.join(path, file)\n",
    "            df = pd.read_csv(file_path)\n",
    "            print(f\"Processing {file_path}\")\n",
    "            df = fn(df)"
   ]
  },
  {
   "cell_type": "code",
   "execution_count": 14,
   "metadata": {},
   "outputs": [
    {
     "name": "stdout",
     "output_type": "stream",
     "text": [
      "Index(['paper_id', 'paper_id_cited'], dtype='object')\n",
      "   paper_id  paper_id_cited\n",
      "0         0            1301\n",
      "1         0            9830\n",
      "2         1            1910\n",
      "3         1            2165\n",
      "4         1            6894\n",
      "Index(['paper_id', 'year', 'conference', 'title', 'abstract'], dtype='object')\n",
      "   paper_id  year conference  \\\n",
      "0         0  2008        KDD   \n",
      "1         1  2008        KDD   \n",
      "2         2  2008        KDD   \n",
      "3         3  2008        KDD   \n",
      "4         4  2008        KDD   \n",
      "\n",
      "                                               title  \\\n",
      "0       Influence and correlation in social networks   \n",
      "1  Efficient semi-streaming algorithms for local ...   \n",
      "2  Structured entity identification and document ...   \n",
      "3  Mining adaptively frequent closed unlabeled ro...   \n",
      "4  Effective label acquisition for collective cla...   \n",
      "\n",
      "                                            abstract  \n",
      "0  In many online social systems, social ties bet...  \n",
      "1  In this paper we study the problem of local tr...  \n",
      "2  Traditionally, research in identifying structu...  \n",
      "3  Closed patterns are powerful representatives o...  \n",
      "4  Information diffusion, viral marketing, and co...  \n",
      "Index(['author_id', 'name', 'firm'], dtype='object')\n",
      "   author_id               name  \\\n",
      "0          0        Raluca Paiu   \n",
      "1          1  Panagiotis Karras   \n",
      "2          2     Peter Bumbulis   \n",
      "3          3    Ronan Collobert   \n",
      "4          4        Terran Lane   \n",
      "\n",
      "                                                firm  \n",
      "0                         ['University of Hannover']  \n",
      "1  ['National University of Singapore', 'Universi...  \n",
      "2                         ['University of Waterloo']  \n",
      "3                                                 []  \n",
      "4  ['Purdue University', 'University of New Mexic...  \n",
      "Index(['paper_id', 'author_id'], dtype='object')\n",
      "   paper_id  author_id\n",
      "0         0       4610\n",
      "1         0       5298\n",
      "2         0      12982\n",
      "3         1       3532\n",
      "4         1       6421\n"
     ]
    }
   ],
   "source": [
    "def show_haeds(df):\n",
    "    print(df.columns)\n",
    "    print(df.head())\n",
    "apply_(tacm12k, show_haeds)"
   ]
  },
  {
   "cell_type": "code",
   "execution_count": null,
   "metadata": {},
   "outputs": [
    {
     "data": {
      "text/plain": [
       "torch.Size([2, 30789])"
      ]
     },
     "execution_count": 8,
     "metadata": {},
     "output_type": "execute_result"
    }
   ],
   "source": [
    "# citation\n",
    "citation = osp.join(tacm12k, \"citations.csv\")\n",
    "df = pd.read_csv(citation)\n",
    "torch.tensor([df['paper_id'], df['paper_id_cited']], dtype=torch.long).shape"
   ]
  },
  {
   "cell_type": "code",
   "execution_count": 15,
   "metadata": {},
   "outputs": [
    {
     "name": "stdout",
     "output_type": "stream",
     "text": [
      "paper_id          0\n",
      "paper_id_cited    0\n",
      "dtype: int64\n",
      "Empty DataFrame\n",
      "Columns: [paper_id, paper_id_cited]\n",
      "Index: []\n",
      "paper_id      0\n",
      "year          0\n",
      "conference    0\n",
      "title         0\n",
      "abstract      0\n",
      "dtype: int64\n",
      "Empty DataFrame\n",
      "Columns: [paper_id, year, conference, title, abstract]\n",
      "Index: []\n",
      "author_id    0\n",
      "name         0\n",
      "firm         0\n",
      "dtype: int64\n",
      "Empty DataFrame\n",
      "Columns: [author_id, name, firm]\n",
      "Index: []\n",
      "paper_id     0\n",
      "author_id    0\n",
      "dtype: int64\n",
      "Empty DataFrame\n",
      "Columns: [paper_id, author_id]\n",
      "Index: []\n"
     ]
    }
   ],
   "source": [
    "def show_nan(df):\n",
    "    print(df.isna().sum())\n",
    "    print(df[df.isna().any(axis=1)])\n",
    "apply_(tacm12k, show_nan)"
   ]
  }
 ],
 "metadata": {
  "kernelspec": {
   "display_name": "llamaindex",
   "language": "python",
   "name": "python3"
  },
  "language_info": {
   "codemirror_mode": {
    "name": "ipython",
    "version": 3
   },
   "file_extension": ".py",
   "mimetype": "text/x-python",
   "name": "python",
   "nbconvert_exporter": "python",
   "pygments_lexer": "ipython3",
   "version": "3.11.11"
  }
 },
 "nbformat": 4,
 "nbformat_minor": 2
}
